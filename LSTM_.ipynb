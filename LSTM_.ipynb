{
  "nbformat": 4,
  "nbformat_minor": 0,
  "metadata": {
    "colab": {
      "name": "LSTM .ipynb",
      "provenance": [],
      "authorship_tag": "ABX9TyN39V4b84K2gD2wWjcb/mK7",
      "include_colab_link": true
    },
    "kernelspec": {
      "name": "python3",
      "display_name": "Python 3"
    },
    "language_info": {
      "name": "python"
    },
    "accelerator": "TPU"
  },
  "cells": [
    {
      "cell_type": "markdown",
      "metadata": {
        "id": "view-in-github",
        "colab_type": "text"
      },
      "source": [
        "<a href=\"https://colab.research.google.com/github/slmsshk/Deep-Learning-in-Python/blob/master/LSTM_.ipynb\" target=\"_parent\"><img src=\"https://colab.research.google.com/assets/colab-badge.svg\" alt=\"Open In Colab\"/></a>"
      ]
    },
    {
      "cell_type": "code",
      "execution_count": 1,
      "metadata": {
        "id": "bykRiNyERBe2"
      },
      "outputs": [],
      "source": [
        "from tqdm import tqdm"
      ]
    },
    {
      "cell_type": "code",
      "source": [
        "data=[i for i in tqdm(range(550000))]"
      ],
      "metadata": {
        "colab": {
          "base_uri": "https://localhost:8080/"
        },
        "id": "QtS2ZtXRRG5Q",
        "outputId": "1e653d83-7f51-4bdf-936a-9fb3691f59af"
      },
      "execution_count": 2,
      "outputs": [
        {
          "output_type": "stream",
          "name": "stderr",
          "text": [
            "100%|██████████| 550000/550000 [00:00<00:00, 1565237.38it/s]\n"
          ]
        }
      ]
    },
    {
      "cell_type": "code",
      "source": [
        "n_seq=3\n",
        "predict=2"
      ],
      "metadata": {
        "id": "uv8BHrr9RI6_"
      },
      "execution_count": 3,
      "outputs": []
    },
    {
      "cell_type": "code",
      "source": [
        "def sequence_creator(data,n_seq=5,predict=2):\n",
        "  import numpy as np\n",
        "  x=[]\n",
        "  y=[]\n",
        "\n",
        "  for i in tqdm(range(len(data))):\n",
        "    last=i+n_seq\n",
        "    if last>=len(data)-1:break\n",
        "    x.append(data[i:last])\n",
        "    y.append(data[last:last+predict])\n",
        "  return np.array(x),np.array(y)"
      ],
      "metadata": {
        "id": "A3K2uNTkRKEq"
      },
      "execution_count": 4,
      "outputs": []
    },
    {
      "cell_type": "code",
      "source": [
        "x,y=sequence_creator(data,n_seq,predict)"
      ],
      "metadata": {
        "colab": {
          "base_uri": "https://localhost:8080/"
        },
        "id": "0uISdTgkRLZy",
        "outputId": "e400e20c-256d-4f4b-c73f-308a2a4eca14"
      },
      "execution_count": 5,
      "outputs": [
        {
          "output_type": "stream",
          "name": "stderr",
          "text": [
            "100%|█████████▉| 549996/550000 [00:01<00:00, 303571.98it/s]\n"
          ]
        }
      ]
    },
    {
      "cell_type": "code",
      "source": [
        "x"
      ],
      "metadata": {
        "colab": {
          "base_uri": "https://localhost:8080/"
        },
        "id": "p9QVdmdVRUM7",
        "outputId": "da4a1ff2-4f6e-48c9-c2dd-28f474ff8ea2"
      },
      "execution_count": 6,
      "outputs": [
        {
          "output_type": "execute_result",
          "data": {
            "text/plain": [
              "array([[     0,      1,      2],\n",
              "       [     1,      2,      3],\n",
              "       [     2,      3,      4],\n",
              "       ...,\n",
              "       [549993, 549994, 549995],\n",
              "       [549994, 549995, 549996],\n",
              "       [549995, 549996, 549997]])"
            ]
          },
          "metadata": {},
          "execution_count": 6
        }
      ]
    },
    {
      "cell_type": "code",
      "source": [
        "y.shape"
      ],
      "metadata": {
        "colab": {
          "base_uri": "https://localhost:8080/"
        },
        "id": "E0tu7CYXRWF0",
        "outputId": "7dc3da03-10bf-4ca7-cd22-ee5926e0dfb8"
      },
      "execution_count": 7,
      "outputs": [
        {
          "output_type": "execute_result",
          "data": {
            "text/plain": [
              "(549996, 2)"
            ]
          },
          "metadata": {},
          "execution_count": 7
        }
      ]
    },
    {
      "cell_type": "code",
      "source": [
        "from tensorflow import keras\n",
        "from keras.layers import Dense,LSTM\n",
        "from keras.models import Sequential\n",
        "import numpy as np\n"
      ],
      "metadata": {
        "id": "41gu4Hh5Ub4z"
      },
      "execution_count": 8,
      "outputs": []
    },
    {
      "cell_type": "code",
      "source": [
        "lstm=Sequential()"
      ],
      "metadata": {
        "id": "TD4kcAWpUxOg"
      },
      "execution_count": 9,
      "outputs": []
    },
    {
      "cell_type": "code",
      "source": [
        "x.shape,x.ndim"
      ],
      "metadata": {
        "colab": {
          "base_uri": "https://localhost:8080/"
        },
        "id": "V1c6ze85U2SO",
        "outputId": "8ab5f7cd-d3b2-4123-8288-4dc632b51eb7"
      },
      "execution_count": 10,
      "outputs": [
        {
          "output_type": "execute_result",
          "data": {
            "text/plain": [
              "((549996, 3), 2)"
            ]
          },
          "metadata": {},
          "execution_count": 10
        }
      ]
    },
    {
      "cell_type": "code",
      "source": [
        "x=x.reshape(549996,3,1)"
      ],
      "metadata": {
        "id": "Ql5Sw90YVDcJ"
      },
      "execution_count": 11,
      "outputs": []
    },
    {
      "cell_type": "code",
      "source": [
        "x_1=x.reshape(x.shape[0],x.shape[1],1)"
      ],
      "metadata": {
        "id": "93g5uAs0Vhbc"
      },
      "execution_count": 12,
      "outputs": []
    },
    {
      "cell_type": "code",
      "source": [
        "lstm.add(LSTM(50,activation='relu',return_sequences=True, input_shape=(x.shape[1],1)))\n",
        "lstm.add(LSTM(30,activation='relu', input_shape=(x.shape[1],1)))\n",
        "lstm.add(Dense(2))\n",
        "lstm._name='practise_Lstm'"
      ],
      "metadata": {
        "id": "pBbyucTCU_9b"
      },
      "execution_count": 13,
      "outputs": []
    },
    {
      "cell_type": "code",
      "source": [
        "lstm.compile(optimizer='adam',loss='mse')"
      ],
      "metadata": {
        "id": "r8DapfB-Wtnh"
      },
      "execution_count": 14,
      "outputs": []
    },
    {
      "cell_type": "code",
      "source": [
        ""
      ],
      "metadata": {
        "id": "RW0RxDs3YUJM"
      },
      "execution_count": 14,
      "outputs": []
    },
    {
      "cell_type": "code",
      "source": [
        "lstm.summary()"
      ],
      "metadata": {
        "colab": {
          "base_uri": "https://localhost:8080/"
        },
        "id": "Zi3BOz4QW53I",
        "outputId": "e4a215e2-50e6-4c01-bbf6-ac5c4e71d4d3"
      },
      "execution_count": 15,
      "outputs": [
        {
          "output_type": "stream",
          "name": "stdout",
          "text": [
            "Model: \"practise_Lstm\"\n",
            "_________________________________________________________________\n",
            " Layer (type)                Output Shape              Param #   \n",
            "=================================================================\n",
            " lstm (LSTM)                 (None, 3, 50)             10400     \n",
            "                                                                 \n",
            " lstm_1 (LSTM)               (None, 30)                9720      \n",
            "                                                                 \n",
            " dense (Dense)               (None, 2)                 62        \n",
            "                                                                 \n",
            "=================================================================\n",
            "Total params: 20,182\n",
            "Trainable params: 20,182\n",
            "Non-trainable params: 0\n",
            "_________________________________________________________________\n"
          ]
        }
      ]
    },
    {
      "cell_type": "code",
      "source": [
        "# Clear any logs from previous runs\n",
        "!rm -rf ./logs/"
      ],
      "metadata": {
        "id": "IJTbhM9iZ7U5"
      },
      "execution_count": 16,
      "outputs": []
    },
    {
      "cell_type": "code",
      "source": [
        "import datetime\n",
        "log_dir = \"logs/fit/\" + datetime.datetime.now().strftime(\"%Y%m%d-%H%M%S\")\n",
        "tensorboard_callback = keras.callbacks.TensorBoard(log_dir=log_dir, histogram_freq=1)"
      ],
      "metadata": {
        "id": "cc9j_3BuXgQR"
      },
      "execution_count": 17,
      "outputs": []
    },
    {
      "cell_type": "code",
      "source": [
        "lstm.fit(x,y,callbacks=[tensorboard_callback],epochs=10000)"
      ],
      "metadata": {
        "colab": {
          "base_uri": "https://localhost:8080/"
        },
        "id": "48N6H2vZW7c0",
        "outputId": "d3904fe0-70c9-4f1a-8718-a0943516f048"
      },
      "execution_count": null,
      "outputs": [
        {
          "output_type": "stream",
          "name": "stdout",
          "text": [
            "Epoch 1/10000\n",
            "17188/17188 [==============================] - 109s 6ms/step - loss: 315091264.0000\n",
            "Epoch 2/10000\n",
            "17188/17188 [==============================] - 102s 6ms/step - loss: 2229405.7500\n",
            "Epoch 3/10000\n",
            "17188/17188 [==============================] - 103s 6ms/step - loss: 5111981.0000\n",
            "Epoch 4/10000\n",
            "17188/17188 [==============================] - 103s 6ms/step - loss: 2341550.7500\n",
            "Epoch 5/10000\n",
            "17188/17188 [==============================] - 101s 6ms/step - loss: 70555.6016\n",
            "Epoch 6/10000\n",
            "17188/17188 [==============================] - 103s 6ms/step - loss: 106847.9531\n",
            "Epoch 7/10000\n",
            "17188/17188 [==============================] - 108s 6ms/step - loss: 1385403.5000\n",
            "Epoch 8/10000\n",
            "17188/17188 [==============================] - 106s 6ms/step - loss: 217778.9844\n",
            "Epoch 9/10000\n",
            "17188/17188 [==============================] - 103s 6ms/step - loss: 120109.3438\n",
            "Epoch 10/10000\n",
            "17188/17188 [==============================] - 103s 6ms/step - loss: 61427.8398\n",
            "Epoch 11/10000\n",
            "17188/17188 [==============================] - 102s 6ms/step - loss: 101604.8828\n",
            "Epoch 12/10000\n",
            "17188/17188 [==============================] - 102s 6ms/step - loss: 188748.4844\n",
            "Epoch 13/10000\n",
            "17188/17188 [==============================] - 102s 6ms/step - loss: 62262.1016\n",
            "Epoch 14/10000\n",
            "17188/17188 [==============================] - 103s 6ms/step - loss: 91999.9375\n",
            "Epoch 15/10000\n",
            "17188/17188 [==============================] - 104s 6ms/step - loss: 10749047.0000\n",
            "Epoch 16/10000\n",
            "17188/17188 [==============================] - 103s 6ms/step - loss: 81863.8438\n",
            "Epoch 17/10000\n",
            "17188/17188 [==============================] - 101s 6ms/step - loss: 34514.0391\n",
            "Epoch 18/10000\n",
            "17188/17188 [==============================] - 101s 6ms/step - loss: 75688.5078\n",
            "Epoch 19/10000\n",
            "17188/17188 [==============================] - 104s 6ms/step - loss: 33127.6914\n",
            "Epoch 20/10000\n",
            "17188/17188 [==============================] - 101s 6ms/step - loss: 49716.0078\n",
            "Epoch 21/10000\n",
            "17188/17188 [==============================] - 102s 6ms/step - loss: 36613.4688\n",
            "Epoch 22/10000\n",
            "17188/17188 [==============================] - 104s 6ms/step - loss: 77273.5078\n",
            "Epoch 23/10000\n",
            "17188/17188 [==============================] - 104s 6ms/step - loss: 43134.2148\n",
            "Epoch 24/10000\n",
            "17188/17188 [==============================] - 102s 6ms/step - loss: 28025.4316\n",
            "Epoch 25/10000\n",
            "17188/17188 [==============================] - 107s 6ms/step - loss: 27573.6113\n",
            "Epoch 26/10000\n",
            "17188/17188 [==============================] - 102s 6ms/step - loss: 1910439.7500\n",
            "Epoch 27/10000\n",
            "17188/17188 [==============================] - 105s 6ms/step - loss: 100382.2109\n",
            "Epoch 28/10000\n",
            "17188/17188 [==============================] - 108s 6ms/step - loss: 889985.0625\n",
            "Epoch 29/10000\n",
            "17188/17188 [==============================] - 106s 6ms/step - loss: 31495.8438\n",
            "Epoch 30/10000\n",
            "17188/17188 [==============================] - 104s 6ms/step - loss: 68302.0469\n",
            "Epoch 31/10000\n",
            "17188/17188 [==============================] - 105s 6ms/step - loss: 59217.7734\n",
            "Epoch 32/10000\n",
            "17188/17188 [==============================] - 104s 6ms/step - loss: 58390.1328\n",
            "Epoch 33/10000\n",
            "17188/17188 [==============================] - 104s 6ms/step - loss: 44283.3047\n",
            "Epoch 34/10000\n",
            "17188/17188 [==============================] - 105s 6ms/step - loss: 42693.2773\n",
            "Epoch 35/10000\n",
            "17188/17188 [==============================] - 103s 6ms/step - loss: 2880267.5000\n",
            "Epoch 36/10000\n",
            "17188/17188 [==============================] - 105s 6ms/step - loss: 981236.5000\n",
            "Epoch 37/10000\n",
            "17188/17188 [==============================] - 104s 6ms/step - loss: 39253.4023\n",
            "Epoch 38/10000\n",
            "17188/17188 [==============================] - 104s 6ms/step - loss: 34231.9023\n",
            "Epoch 39/10000\n",
            "17188/17188 [==============================] - 104s 6ms/step - loss: 94015.6094\n",
            "Epoch 40/10000\n",
            "17188/17188 [==============================] - 107s 6ms/step - loss: 26707.1719\n",
            "Epoch 41/10000\n",
            "17188/17188 [==============================] - 109s 6ms/step - loss: 1920586.5000\n",
            "Epoch 42/10000\n",
            " 9448/17188 [===============>..............] - ETA: 47s - loss: 26970.5547"
          ]
        }
      ]
    }
  ]
}